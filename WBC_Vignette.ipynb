{
 "cells": [
  {
   "cell_type": "markdown",
   "id": "dee90d6c",
   "metadata": {},
   "source": [
    "# World Bank Correlations\n",
    "\n",
    "Thank you for your interest in the World Bank Correlations package. This package was built with both practical application and theoretical research in mind. Through their APIs, the World Bank makes available data on over 20,000 variables. While there exists a notable amount of missingness in this data and some variables are available only for certain countries or years, the data can offer initial insight into what relationships exist and may warrant further investigation when constructing a model for or attempting to make predictions about an aspect of interest. The functions in this package allow users to quickly find relationships that exist with variables in the World Bank dataset through various methods depending on the user's interest or theory. Each of the strategies of searching also allows for various optional limits to be placed on the results, as explained below. This package utilizes functions built by MWOUTS in the world_bank_data package which can be investigated here: https://github.com/mwouts/world_bank_data. \n",
    "\n",
    "## Package Installation\n",
    "\n",
    "The following call can be used to install the package from GitHub."
   ]
  },
  {
   "cell_type": "code",
   "execution_count": 1,
   "id": "3b9f0809",
   "metadata": {
    "collapsed": true
   },
   "outputs": [
    {
     "name": "stdout",
     "output_type": "stream",
     "text": [
      "Collecting git+https://github.com/JohnMarion54/World_Bank_Correlations\n",
      "  Cloning https://github.com/JohnMarion54/World_Bank_Correlations to c:\\users\\john marion\\appdata\\local\\temp\\pip-req-build-cbth6krz\n",
      "  Resolved https://github.com/JohnMarion54/World_Bank_Correlations to commit 038d44d36fb3df968607529b7f2fecee3a4f13c3\n",
      "  Installing build dependencies: started\n",
      "  Installing build dependencies: finished with status 'done'\n",
      "  Getting requirements to build wheel: started\n",
      "  Getting requirements to build wheel: finished with status 'done'\n",
      "  Preparing metadata (pyproject.toml): started\n",
      "  Preparing metadata (pyproject.toml): finished with status 'done'\n",
      "Requirement already satisfied: lxml<5.0.0,>=4.7.1 in c:\\users\\john marion\\appdata\\local\\programs\\python\\python39\\lib\\site-packages (from world-bank-correlations==0.1.0) (4.7.1)\n",
      "Requirement already satisfied: pandas<2.0.0,>=1.3.5 in c:\\users\\john marion\\appdata\\local\\programs\\python\\python39\\lib\\site-packages (from world-bank-correlations==0.1.0) (1.3.5)\n",
      "Requirement already satisfied: requests<3.0.0,>=2.26.0 in c:\\users\\john marion\\appdata\\local\\programs\\python\\python39\\lib\\site-packages (from world-bank-correlations==0.1.0) (2.26.0)\n",
      "Requirement already satisfied: world-bank-data<0.2.0,>=0.1.3 in c:\\users\\john marion\\appdata\\local\\programs\\python\\python39\\lib\\site-packages (from world-bank-correlations==0.1.0) (0.1.3)\n",
      "Requirement already satisfied: numpy>=1.17.3 in c:\\users\\john marion\\appdata\\local\\programs\\python\\python39\\lib\\site-packages (from pandas<2.0.0,>=1.3.5->world-bank-correlations==0.1.0) (1.21.2)\n",
      "Requirement already satisfied: pytz>=2017.3 in c:\\users\\john marion\\appdata\\local\\programs\\python\\python39\\lib\\site-packages (from pandas<2.0.0,>=1.3.5->world-bank-correlations==0.1.0) (2021.1)\n",
      "Requirement already satisfied: python-dateutil>=2.7.3 in c:\\users\\john marion\\appdata\\local\\programs\\python\\python39\\lib\\site-packages (from pandas<2.0.0,>=1.3.5->world-bank-correlations==0.1.0) (2.8.2)\n",
      "Requirement already satisfied: charset-normalizer~=2.0.0 in c:\\users\\john marion\\appdata\\local\\programs\\python\\python39\\lib\\site-packages (from requests<3.0.0,>=2.26.0->world-bank-correlations==0.1.0) (2.0.6)\n",
      "Requirement already satisfied: certifi>=2017.4.17 in c:\\users\\john marion\\appdata\\local\\programs\\python\\python39\\lib\\site-packages (from requests<3.0.0,>=2.26.0->world-bank-correlations==0.1.0) (2021.5.30)\n",
      "Requirement already satisfied: urllib3<1.27,>=1.21.1 in c:\\users\\john marion\\appdata\\local\\programs\\python\\python39\\lib\\site-packages (from requests<3.0.0,>=2.26.0->world-bank-correlations==0.1.0) (1.26.6)\n",
      "Requirement already satisfied: idna<4,>=2.5 in c:\\users\\john marion\\appdata\\local\\programs\\python\\python39\\lib\\site-packages (from requests<3.0.0,>=2.26.0->world-bank-correlations==0.1.0) (3.2)\n",
      "Requirement already satisfied: cachetools in c:\\users\\john marion\\appdata\\local\\programs\\python\\python39\\lib\\site-packages (from world-bank-data<0.2.0,>=0.1.3->world-bank-correlations==0.1.0) (4.2.4)\n",
      "Requirement already satisfied: six>=1.5 in c:\\users\\john marion\\appdata\\local\\programs\\python\\python39\\lib\\site-packages (from python-dateutil>=2.7.3->pandas<2.0.0,>=1.3.5->world-bank-correlations==0.1.0) (1.16.0)\n",
      "Note: you may need to restart the kernel to use updated packages.\n"
     ]
    },
    {
     "name": "stderr",
     "output_type": "stream",
     "text": [
      "  Running command git clone --filter=blob:none -q https://github.com/JohnMarion54/World_Bank_Correlations 'C:\\Users\\John Marion\\AppData\\Local\\Temp\\pip-req-build-cbth6krz'\n"
     ]
    }
   ],
   "source": [
    "pip install git+https://github.com/JohnMarion54/World_Bank_Correlations"
   ]
  },
  {
   "cell_type": "markdown",
   "id": "3d7895b6",
   "metadata": {},
   "source": [
    "The following includes general setup including loading in two datasets that will be used as examples, demonstrating how to use the functions with either data already downloaded by the user or data regarding another of the World Bank variables using the world_bank_data package. Note that both have a column called \"Country\" and one called \"Year,\" a requirement of the World Bank Correlations functions."
   ]
  },
  {
   "cell_type": "code",
   "execution_count": 1,
   "id": "5fff96e9",
   "metadata": {},
   "outputs": [],
   "source": [
    "import requests\n",
    "import world_bank_data as wb\n",
    "import pandas as pd\n",
    "sample=wb.get_series('3.0.Gini',mrv=50).reset_index()\n",
    "sample2=pd.read_csv('C:\\\\Users\\\\John Marion\\\\...\\\\Bottom_40.csv')\n",
    "sample2.rename(columns = {'country':'Country', 'year':'Year'}, inplace = True)\n",
    "sample2.drop(['Income_share_held_by_lowest_20%', 'Income_share_held_by_fourth_20%','Unnamed: 0'], axis=1, inplace=True)\n",
    "sample2['Year']=sample2['Year'].str.slice(1, 5)"
   ]
  },
  {
   "cell_type": "code",
   "execution_count": 3,
   "id": "0d7ba3e7",
   "metadata": {},
   "outputs": [
    {
     "data": {
      "text/html": [
       "<div>\n",
       "<style scoped>\n",
       "    .dataframe tbody tr th:only-of-type {\n",
       "        vertical-align: middle;\n",
       "    }\n",
       "\n",
       "    .dataframe tbody tr th {\n",
       "        vertical-align: top;\n",
       "    }\n",
       "\n",
       "    .dataframe thead th {\n",
       "        text-align: right;\n",
       "    }\n",
       "</style>\n",
       "<table border=\"1\" class=\"dataframe\">\n",
       "  <thead>\n",
       "    <tr style=\"text-align: right;\">\n",
       "      <th></th>\n",
       "      <th>Country</th>\n",
       "      <th>Series</th>\n",
       "      <th>Year</th>\n",
       "      <th>3.0.Gini</th>\n",
       "    </tr>\n",
       "  </thead>\n",
       "  <tbody>\n",
       "    <tr>\n",
       "      <th>0</th>\n",
       "      <td>Andean Region</td>\n",
       "      <td>Gini Coefficient</td>\n",
       "      <td>2000</td>\n",
       "      <td>0.560277</td>\n",
       "    </tr>\n",
       "  </tbody>\n",
       "</table>\n",
       "</div>"
      ],
      "text/plain": [
       "         Country            Series  Year  3.0.Gini\n",
       "0  Andean Region  Gini Coefficient  2000  0.560277"
      ]
     },
     "execution_count": 3,
     "metadata": {},
     "output_type": "execute_result"
    }
   ],
   "source": [
    "sample.head(1)"
   ]
  },
  {
   "cell_type": "code",
   "execution_count": 4,
   "id": "d2d72c97",
   "metadata": {
    "scrolled": true
   },
   "outputs": [
    {
     "data": {
      "text/html": [
       "<div>\n",
       "<style scoped>\n",
       "    .dataframe tbody tr th:only-of-type {\n",
       "        vertical-align: middle;\n",
       "    }\n",
       "\n",
       "    .dataframe tbody tr th {\n",
       "        vertical-align: top;\n",
       "    }\n",
       "\n",
       "    .dataframe thead th {\n",
       "        text-align: right;\n",
       "    }\n",
       "</style>\n",
       "<table border=\"1\" class=\"dataframe\">\n",
       "  <thead>\n",
       "    <tr style=\"text-align: right;\">\n",
       "      <th></th>\n",
       "      <th>Country</th>\n",
       "      <th>Year</th>\n",
       "      <th>income_share_bottom_40</th>\n",
       "    </tr>\n",
       "  </thead>\n",
       "  <tbody>\n",
       "    <tr>\n",
       "      <th>0</th>\n",
       "      <td>Afghanistan</td>\n",
       "      <td>1960</td>\n",
       "      <td>NaN</td>\n",
       "    </tr>\n",
       "  </tbody>\n",
       "</table>\n",
       "</div>"
      ],
      "text/plain": [
       "       Country  Year  income_share_bottom_40\n",
       "0  Afghanistan  1960                     NaN"
      ]
     },
     "execution_count": 4,
     "metadata": {},
     "output_type": "execute_result"
    }
   ],
   "source": [
    "sample2.head(1)"
   ]
  },
  {
   "cell_type": "code",
   "execution_count": null,
   "id": "22e96d62",
   "metadata": {},
   "outputs": [],
   "source": [
    "from World_Bank_Correlations import World_Bank_Correlations as wbc"
   ]
  },
  {
   "cell_type": "markdown",
   "id": "614bacb5",
   "metadata": {},
   "source": [
    "# Investigation by Specific Indicator\n",
    "The first function of the package can be used to find the relationship (either the correlation or the correlation between annual percent changes) between the user's chosen variable and one or more specifically named other variables. The names of the other variables to test are the ID (as given by the World Bank) of the variables. To find a list of indicators, this API can be used to see a list of indicators: http://api.worldbank.org/v2/indicator?per_page=21000 or http://api.worldbank.org/v2/indicator?page=2 (page number can be changed), or one can run a command similar to the following:\n",
    "pd.read_xml(requests.get('http://api.worldbank.org/v2/indicator?page=250').content)\n",
    "\n",
    "__wb_corr(data, col, indicator, change=False)__\n",
    "\n",
    "Required arguments:\n",
    "- data: a dataframe containing columns \"Country,\" \"Year,\" and information on the variable of itnerest\n",
    "- col: The integer index where data of the variable exists in data\n",
    "- indicator: The ID of an indicator to find the relationship with the input variable or list of IDs whose relationships are desired\n",
    "\n",
    "Optional arguments:\n",
    "- change: True to find and order variables by the correlation between the variable of interest and World Bank variables"
   ]
  },
  {
   "cell_type": "markdown",
   "id": "7f18d6d1",
   "metadata": {},
   "source": [
    "Using the sample built previously, we can investigate the relationship between the Gini Coefficient (chosen when building the sample) and another variable from the World Bank such as the percent of GDP given to research and development which has the ID GB.XPD.RSDV.GD.ZS. "
   ]
  },
  {
   "cell_type": "code",
   "execution_count": 19,
   "id": "0519a02f",
   "metadata": {
    "scrolled": true
   },
   "outputs": [
    {
     "data": {
      "text/html": [
       "<div>\n",
       "<style scoped>\n",
       "    .dataframe tbody tr th:only-of-type {\n",
       "        vertical-align: middle;\n",
       "    }\n",
       "\n",
       "    .dataframe tbody tr th {\n",
       "        vertical-align: top;\n",
       "    }\n",
       "\n",
       "    .dataframe thead th {\n",
       "        text-align: right;\n",
       "    }\n",
       "</style>\n",
       "<table border=\"1\" class=\"dataframe\">\n",
       "  <thead>\n",
       "    <tr style=\"text-align: right;\">\n",
       "      <th></th>\n",
       "      <th>Correlation</th>\n",
       "      <th>n</th>\n",
       "    </tr>\n",
       "    <tr>\n",
       "      <th>Indicator</th>\n",
       "      <th></th>\n",
       "      <th></th>\n",
       "    </tr>\n",
       "  </thead>\n",
       "  <tbody>\n",
       "    <tr>\n",
       "      <th>Research and development expenditure (% of GDP)</th>\n",
       "      <td>0.110859</td>\n",
       "      <td>114</td>\n",
       "    </tr>\n",
       "  </tbody>\n",
       "</table>\n",
       "</div>"
      ],
      "text/plain": [
       "                                                 Correlation    n\n",
       "Indicator                                                        \n",
       "Research and development expenditure (% of GDP)     0.110859  114"
      ]
     },
     "execution_count": 19,
     "metadata": {},
     "output_type": "execute_result"
    }
   ],
   "source": [
    "wbc.wb_corr(sample,3,'GB.XPD.RSDV.GD.ZS')"
   ]
  },
  {
   "cell_type": "markdown",
   "id": "314d5c4a",
   "metadata": {},
   "source": [
    "Here, correlations displayed are correlations with the input variable (in this case, the Gini Coefficeint). \n",
    "\n",
    "More than one relationship can be found if desired. A string of indicator IDs can be used to find the relationships that exist between the input variable. Further, change can be set to true to find the correlation between the annual percent changes between the chosen variable(s) and the input variable. \n",
    "\n",
    "In the below example, the data read in from a csv is used, demonstrating that it is not necessary to only compare variables from the World Bank data. The function can be used to find two types of relationship between the variable whose data was loaded in and a list of variables from the World Bank data. Here, we find these relationships between the income share of the bottom 40% with the percent of GDP spent on research and development (GB.XPD.RSDV.GD.ZS) and total population (SP.POP.TOTL)."
   ]
  },
  {
   "cell_type": "code",
   "execution_count": 20,
   "id": "08cfa785",
   "metadata": {},
   "outputs": [
    {
     "data": {
      "text/html": [
       "<div>\n",
       "<style scoped>\n",
       "    .dataframe tbody tr th:only-of-type {\n",
       "        vertical-align: middle;\n",
       "    }\n",
       "\n",
       "    .dataframe tbody tr th {\n",
       "        vertical-align: top;\n",
       "    }\n",
       "\n",
       "    .dataframe thead th {\n",
       "        text-align: right;\n",
       "    }\n",
       "</style>\n",
       "<table border=\"1\" class=\"dataframe\">\n",
       "  <thead>\n",
       "    <tr style=\"text-align: right;\">\n",
       "      <th></th>\n",
       "      <th>Correlation</th>\n",
       "      <th>n</th>\n",
       "      <th>Correlation_change</th>\n",
       "      <th>n_change</th>\n",
       "    </tr>\n",
       "    <tr>\n",
       "      <th>Indicator</th>\n",
       "      <th></th>\n",
       "      <th></th>\n",
       "      <th></th>\n",
       "      <th></th>\n",
       "    </tr>\n",
       "  </thead>\n",
       "  <tbody>\n",
       "    <tr>\n",
       "      <th>Research and development expenditure (% of GDP)</th>\n",
       "      <td>0.404506</td>\n",
       "      <td>1053</td>\n",
       "      <td>0.056673</td>\n",
       "      <td>799</td>\n",
       "    </tr>\n",
       "    <tr>\n",
       "      <th>Population, total</th>\n",
       "      <td>-0.022363</td>\n",
       "      <td>1739</td>\n",
       "      <td>-0.008851</td>\n",
       "      <td>1057</td>\n",
       "    </tr>\n",
       "  </tbody>\n",
       "</table>\n",
       "</div>"
      ],
      "text/plain": [
       "                                                 Correlation     n  \\\n",
       "Indicator                                                            \n",
       "Research and development expenditure (% of GDP)     0.404506  1053   \n",
       "Population, total                                  -0.022363  1739   \n",
       "\n",
       "                                                 Correlation_change  n_change  \n",
       "Indicator                                                                      \n",
       "Research and development expenditure (% of GDP)            0.056673       799  \n",
       "Population, total                                         -0.008851      1057  "
      ]
     },
     "execution_count": 20,
     "metadata": {},
     "output_type": "execute_result"
    }
   ],
   "source": [
    "wbc.wb_corr(sample2,2,['GB.XPD.RSDV.GD.ZS','SP.POP.TOTL'],change=True)"
   ]
  },
  {
   "cell_type": "markdown",
   "id": "4167697d",
   "metadata": {},
   "source": [
    "# Investigation by Topic\n",
    "Rather than find the relationship(s) between the input variable and specifically named variables, the wb_topic_corrs function can be used to find the k variables under a given topic (as defined by the World Bank) that have the strongest relationship with an input variable. The relationship to judge can be either the correlation between the input variable and the variables under the chosen topic (change=False) or the correlation between the annual percent changes (change=True).\n",
    "\n",
    "The World Bank defines 21 topics such as Economy & Growth and Social Protection & Labor. A complete list of topics can be found here: http://api.worldbank.org/v2/topic?\n",
    "\n",
    "Topics chosen in the function can either be written as the integer corresponding to the topic or the name of the topic as a string. The k strongest relationships will be found and displayed. \n",
    "\n",
    "__wb_topic_corrs(wb_topic_corrs(data,col,topic,k=5,change=False,nlim=1,cor_lim=0,t_lim=0))__\n",
    "\n",
    "Required arguments:\n",
    "- data: a dataframe containing columns \"Country,\" \"Year,\" and information on the variable of itnerest\n",
    "- col: The integer index where data of the variable exists in data\n",
    "- topic: Integer associated with one of the topics or a string of the topic name\n",
    "\n",
    "Optional arguments:\n",
    "- k: The number of variables to return\n",
    "- change: True to find and order variables by the correlation between the variable of interest and World Bank variables\n",
    "- nlim: The minimum number observations to be used to find the correlation\n",
    "- cor_lim: The minimum absolute value of the correlation of variables to be displayed. \n",
    "- t_lim: the minimum absolute value of the t-value associated with the correlation of variables to be displayed.\n",
    "\n",
    "In the example below, the 5 variables listed under the topic of \"Financial Sector\" that have the strongest correlation with the Gini Coefficient are found."
   ]
  },
  {
   "cell_type": "code",
   "execution_count": 23,
   "id": "5fb69f58",
   "metadata": {},
   "outputs": [
    {
     "data": {
      "text/html": [
       "<div>\n",
       "<style scoped>\n",
       "    .dataframe tbody tr th:only-of-type {\n",
       "        vertical-align: middle;\n",
       "    }\n",
       "\n",
       "    .dataframe tbody tr th {\n",
       "        vertical-align: top;\n",
       "    }\n",
       "\n",
       "    .dataframe thead th {\n",
       "        text-align: right;\n",
       "    }\n",
       "</style>\n",
       "<table border=\"1\" class=\"dataframe\">\n",
       "  <thead>\n",
       "    <tr style=\"text-align: right;\">\n",
       "      <th></th>\n",
       "      <th>Correlation</th>\n",
       "      <th>n</th>\n",
       "    </tr>\n",
       "    <tr>\n",
       "      <th>Indicator</th>\n",
       "      <th></th>\n",
       "      <th></th>\n",
       "    </tr>\n",
       "  </thead>\n",
       "  <tbody>\n",
       "    <tr>\n",
       "      <th>Nonfinancial corporate bonds to total bonds and notes outstanding (%)</th>\n",
       "      <td>-0.766563</td>\n",
       "      <td>32</td>\n",
       "    </tr>\n",
       "    <tr>\n",
       "      <th>Outstanding domestic public debt securities to GDP (%)</th>\n",
       "      <td>0.712796</td>\n",
       "      <td>38</td>\n",
       "    </tr>\n",
       "    <tr>\n",
       "      <th>Risk premium on lending (lending rate minus treasury bill rate, %)</th>\n",
       "      <td>0.587889</td>\n",
       "      <td>46</td>\n",
       "    </tr>\n",
       "    <tr>\n",
       "      <th>Private credit bureau coverage (% of adults)</th>\n",
       "      <td>-0.550783</td>\n",
       "      <td>128</td>\n",
       "    </tr>\n",
       "    <tr>\n",
       "      <th>Mutual fund assets to GDP (%)</th>\n",
       "      <td>0.528449</td>\n",
       "      <td>80</td>\n",
       "    </tr>\n",
       "  </tbody>\n",
       "</table>\n",
       "</div>"
      ],
      "text/plain": [
       "                                                    Correlation    n\n",
       "Indicator                                                           \n",
       "Nonfinancial corporate bonds to total bonds and...    -0.766563   32\n",
       "Outstanding domestic public debt securities to ...     0.712796   38\n",
       "Risk premium on lending (lending rate minus tre...     0.587889   46\n",
       "Private credit bureau coverage (% of adults)          -0.550783  128\n",
       "Mutual fund assets to GDP (%)                          0.528449   80"
      ]
     },
     "execution_count": 23,
     "metadata": {},
     "output_type": "execute_result"
    }
   ],
   "source": [
    "wbc.wb_topic_corrs(sample,3,'Financial Sector')"
   ]
  },
  {
   "cell_type": "markdown",
   "id": "1291691a",
   "metadata": {},
   "source": [
    "Additional options are available when investigating by topic. If a user desires the 7 strongest variables under the \"Poverty\" topic that are most strongly related to the income share of the bottom 40% via the annual percent change of both measures, but only if at least 20 observations can be used to calcluate the correlation, change can be set to true and nlim can be set to 19. Further, the index associated with the \"Poverty\" topic is 11, for demonstration of this method. "
   ]
  },
  {
   "cell_type": "code",
   "execution_count": 24,
   "id": "d6b91229",
   "metadata": {
    "scrolled": true
   },
   "outputs": [
    {
     "data": {
      "text/html": [
       "<div>\n",
       "<style scoped>\n",
       "    .dataframe tbody tr th:only-of-type {\n",
       "        vertical-align: middle;\n",
       "    }\n",
       "\n",
       "    .dataframe tbody tr th {\n",
       "        vertical-align: top;\n",
       "    }\n",
       "\n",
       "    .dataframe thead th {\n",
       "        text-align: right;\n",
       "    }\n",
       "</style>\n",
       "<table border=\"1\" class=\"dataframe\">\n",
       "  <thead>\n",
       "    <tr style=\"text-align: right;\">\n",
       "      <th></th>\n",
       "      <th>Correlation</th>\n",
       "      <th>n</th>\n",
       "      <th>Correlation_change</th>\n",
       "      <th>n_change</th>\n",
       "    </tr>\n",
       "    <tr>\n",
       "      <th>Indicator</th>\n",
       "      <th></th>\n",
       "      <th></th>\n",
       "      <th></th>\n",
       "      <th></th>\n",
       "    </tr>\n",
       "  </thead>\n",
       "  <tbody>\n",
       "    <tr>\n",
       "      <th>Income share held by highest 10%</th>\n",
       "      <td>-0.994108</td>\n",
       "      <td>1741</td>\n",
       "      <td>-0.905048</td>\n",
       "      <td>1057</td>\n",
       "    </tr>\n",
       "    <tr>\n",
       "      <th>Income share held by highest 20%</th>\n",
       "      <td>-0.993918</td>\n",
       "      <td>1741</td>\n",
       "      <td>-0.898675</td>\n",
       "      <td>1057</td>\n",
       "    </tr>\n",
       "    <tr>\n",
       "      <th>Income share held by third 20%</th>\n",
       "      <td>0.977071</td>\n",
       "      <td>1741</td>\n",
       "      <td>0.872442</td>\n",
       "      <td>1057</td>\n",
       "    </tr>\n",
       "    <tr>\n",
       "      <th>Income Share of Fifth Quintile</th>\n",
       "      <td>-0.962370</td>\n",
       "      <td>160</td>\n",
       "      <td>-0.833629</td>\n",
       "      <td>125</td>\n",
       "    </tr>\n",
       "    <tr>\n",
       "      <th>Gini index (World Bank estimate)</th>\n",
       "      <td>-0.989436</td>\n",
       "      <td>1741</td>\n",
       "      <td>-0.830589</td>\n",
       "      <td>1057</td>\n",
       "    </tr>\n",
       "    <tr>\n",
       "      <th>Income share held by fourth 20%</th>\n",
       "      <td>0.830866</td>\n",
       "      <td>1741</td>\n",
       "      <td>0.829783</td>\n",
       "      <td>1057</td>\n",
       "    </tr>\n",
       "    <tr>\n",
       "      <th>Income share held by second 20%</th>\n",
       "      <td>0.973005</td>\n",
       "      <td>1741</td>\n",
       "      <td>0.821601</td>\n",
       "      <td>1057</td>\n",
       "    </tr>\n",
       "  </tbody>\n",
       "</table>\n",
       "</div>"
      ],
      "text/plain": [
       "                                  Correlation     n  Correlation_change  \\\n",
       "Indicator                                                                 \n",
       "Income share held by highest 10%    -0.994108  1741           -0.905048   \n",
       "Income share held by highest 20%    -0.993918  1741           -0.898675   \n",
       "Income share held by third 20%       0.977071  1741            0.872442   \n",
       "Income Share of Fifth Quintile      -0.962370   160           -0.833629   \n",
       "Gini index (World Bank estimate)    -0.989436  1741           -0.830589   \n",
       "Income share held by fourth 20%      0.830866  1741            0.829783   \n",
       "Income share held by second 20%      0.973005  1741            0.821601   \n",
       "\n",
       "                                  n_change  \n",
       "Indicator                                   \n",
       "Income share held by highest 10%      1057  \n",
       "Income share held by highest 20%      1057  \n",
       "Income share held by third 20%        1057  \n",
       "Income Share of Fifth Quintile         125  \n",
       "Gini index (World Bank estimate)      1057  \n",
       "Income share held by fourth 20%       1057  \n",
       "Income share held by second 20%       1057  "
      ]
     },
     "execution_count": 24,
     "metadata": {},
     "output_type": "execute_result"
    }
   ],
   "source": [
    "wbc.wb_topic_corrs(sample2,2,11,k=7,change=True,nlim=19)"
   ]
  },
  {
   "cell_type": "markdown",
   "id": "f99372f6",
   "metadata": {},
   "source": [
    "# Investigation by Keyword Search\n",
    "Rather than by topic, users can find the k strongest relationships that exist in the World Bank data by a keyword search. Variables matching the search will be found and their correlation with the input variable will be calculated. Variables, again, will be listed by the absolute value of their correlation with the input variable is change is set to False or by the absolute value of the correlation between the annual percent changes if change is set to True. The search should be a string to search for variable names that match. The function takes advantage of the search_indicators() function from the world_bank_data package built by MWOUTS. \n",
    "\n",
    "__wb_corrs_search(data,col,search,k=5,change=False,nlim=1,cor_lim=0,t_lim=0)__\n",
    "\n",
    "Required arguments:\n",
    "- data: a dataframe containing columns \"Country,\" \"Year,\" and information on the variable of itnerest\n",
    "- col: The integer index where data of the variable exists in data\n",
    "- search: The keyword search desired to be used to match variables from the World Bank\n",
    "\n",
    "Optional arguments:\n",
    "- k: The number of variables to return\n",
    "- change: True to find and order variables by the correlation between the variable of interest and World Bank variables\n",
    "- nlim: The minimum number observations to be used to find the correlation\n",
    "- cor_lim: The minimum absolute value of the correlation of variables to be displayed. \n",
    "- t_lim: the minimum absolute value of the t-value associated with the correlation of variables to be displayed.\n",
    "\n",
    "The following example finds the top 3 strongest correlations between the Gini Coefficient and variables whose name contains the word \"income share.\" "
   ]
  },
  {
   "cell_type": "code",
   "execution_count": 26,
   "id": "e1c9d695",
   "metadata": {},
   "outputs": [
    {
     "data": {
      "text/html": [
       "<div>\n",
       "<style scoped>\n",
       "    .dataframe tbody tr th:only-of-type {\n",
       "        vertical-align: middle;\n",
       "    }\n",
       "\n",
       "    .dataframe tbody tr th {\n",
       "        vertical-align: top;\n",
       "    }\n",
       "\n",
       "    .dataframe thead th {\n",
       "        text-align: right;\n",
       "    }\n",
       "</style>\n",
       "<table border=\"1\" class=\"dataframe\">\n",
       "  <thead>\n",
       "    <tr style=\"text-align: right;\">\n",
       "      <th></th>\n",
       "      <th>Correlation</th>\n",
       "      <th>n</th>\n",
       "    </tr>\n",
       "    <tr>\n",
       "      <th>Indicator</th>\n",
       "      <th></th>\n",
       "      <th></th>\n",
       "    </tr>\n",
       "  </thead>\n",
       "  <tbody>\n",
       "    <tr>\n",
       "      <th>Income Share of Fifth Quintile</th>\n",
       "      <td>0.991789</td>\n",
       "      <td>160</td>\n",
       "    </tr>\n",
       "    <tr>\n",
       "      <th>Income Share of Second Quintile</th>\n",
       "      <td>-0.985993</td>\n",
       "      <td>160</td>\n",
       "    </tr>\n",
       "    <tr>\n",
       "      <th>Income share held by highest 20%</th>\n",
       "      <td>0.970095</td>\n",
       "      <td>172</td>\n",
       "    </tr>\n",
       "  </tbody>\n",
       "</table>\n",
       "</div>"
      ],
      "text/plain": [
       "                                  Correlation    n\n",
       "Indicator                                         \n",
       "Income Share of Fifth Quintile       0.991789  160\n",
       "Income Share of Second Quintile     -0.985993  160\n",
       "Income share held by highest 20%     0.970095  172"
      ]
     },
     "execution_count": 26,
     "metadata": {},
     "output_type": "execute_result"
    }
   ],
   "source": [
    "wbc.wb_corrs_search(sample,3,\"income share\",k=3)"
   ]
  },
  {
   "cell_type": "markdown",
   "id": "a82bd56e",
   "metadata": {},
   "source": [
    "If only correlations that are likely statistically significant are desired, t_lim can be set to about 1.96"
   ]
  },
  {
   "cell_type": "code",
   "execution_count": 27,
   "id": "0b72c6d9",
   "metadata": {
    "scrolled": true
   },
   "outputs": [
    {
     "data": {
      "text/html": [
       "<div>\n",
       "<style scoped>\n",
       "    .dataframe tbody tr th:only-of-type {\n",
       "        vertical-align: middle;\n",
       "    }\n",
       "\n",
       "    .dataframe tbody tr th {\n",
       "        vertical-align: top;\n",
       "    }\n",
       "\n",
       "    .dataframe thead th {\n",
       "        text-align: right;\n",
       "    }\n",
       "</style>\n",
       "<table border=\"1\" class=\"dataframe\">\n",
       "  <thead>\n",
       "    <tr style=\"text-align: right;\">\n",
       "      <th></th>\n",
       "      <th>Correlation</th>\n",
       "      <th>n</th>\n",
       "      <th>t</th>\n",
       "      <th>Correlation_change</th>\n",
       "      <th>n_change</th>\n",
       "      <th>t_change</th>\n",
       "    </tr>\n",
       "    <tr>\n",
       "      <th>Indicator</th>\n",
       "      <th></th>\n",
       "      <th></th>\n",
       "      <th></th>\n",
       "      <th></th>\n",
       "      <th></th>\n",
       "      <th></th>\n",
       "    </tr>\n",
       "  </thead>\n",
       "  <tbody>\n",
       "    <tr>\n",
       "      <th>Income share held by highest 10%</th>\n",
       "      <td>-0.994108</td>\n",
       "      <td>1741</td>\n",
       "      <td>-382.451007</td>\n",
       "      <td>-0.905048</td>\n",
       "      <td>1057</td>\n",
       "      <td>-69.118209</td>\n",
       "    </tr>\n",
       "    <tr>\n",
       "      <th>Income share held by highest 20%</th>\n",
       "      <td>-0.993918</td>\n",
       "      <td>1741</td>\n",
       "      <td>-376.370151</td>\n",
       "      <td>-0.898675</td>\n",
       "      <td>1057</td>\n",
       "      <td>-66.549576</td>\n",
       "    </tr>\n",
       "    <tr>\n",
       "      <th>Income share held by third 20%</th>\n",
       "      <td>0.977071</td>\n",
       "      <td>1741</td>\n",
       "      <td>191.371319</td>\n",
       "      <td>0.872442</td>\n",
       "      <td>1057</td>\n",
       "      <td>57.983605</td>\n",
       "    </tr>\n",
       "    <tr>\n",
       "      <th>Income Share of Fifth Quintile</th>\n",
       "      <td>-0.962370</td>\n",
       "      <td>160</td>\n",
       "      <td>-44.515475</td>\n",
       "      <td>-0.833629</td>\n",
       "      <td>125</td>\n",
       "      <td>-16.739031</td>\n",
       "    </tr>\n",
       "    <tr>\n",
       "      <th>Income share held by fourth 20%</th>\n",
       "      <td>0.830866</td>\n",
       "      <td>1741</td>\n",
       "      <td>62.264102</td>\n",
       "      <td>0.829783</td>\n",
       "      <td>1057</td>\n",
       "      <td>48.293620</td>\n",
       "    </tr>\n",
       "  </tbody>\n",
       "</table>\n",
       "</div>"
      ],
      "text/plain": [
       "                                  Correlation     n           t  \\\n",
       "Indicator                                                         \n",
       "Income share held by highest 10%    -0.994108  1741 -382.451007   \n",
       "Income share held by highest 20%    -0.993918  1741 -376.370151   \n",
       "Income share held by third 20%       0.977071  1741  191.371319   \n",
       "Income Share of Fifth Quintile      -0.962370   160  -44.515475   \n",
       "Income share held by fourth 20%      0.830866  1741   62.264102   \n",
       "\n",
       "                                  Correlation_change  n_change   t_change  \n",
       "Indicator                                                                  \n",
       "Income share held by highest 10%           -0.905048      1057 -69.118209  \n",
       "Income share held by highest 20%           -0.898675      1057 -66.549576  \n",
       "Income share held by third 20%              0.872442      1057  57.983605  \n",
       "Income Share of Fifth Quintile             -0.833629       125 -16.739031  \n",
       "Income share held by fourth 20%             0.829783      1057  48.293620  "
      ]
     },
     "execution_count": 27,
     "metadata": {},
     "output_type": "execute_result"
    }
   ],
   "source": [
    "wbc.wb_corrs_search(sample2,2,\"income share\",change=True,t_lim=1.96)"
   ]
  },
  {
   "cell_type": "markdown",
   "id": "4510d518",
   "metadata": {},
   "source": [
    "# Search with All Variables"
   ]
  },
  {
   "cell_type": "markdown",
   "id": "0aedaf7d",
   "metadata": {},
   "source": [
    "### Warning: The following code will take significant time to run. It is generally advised to use one of the other paths provided. More advisable would be to use the topic function for each of the 21 topics.\n",
    "\n",
    "To find the k World Bank variables that have the strongest relationship with an input variable of interest, the following code finds the correlation (or correlation between annual percent changes) between a user's input variable and all variables available in the World Bank data and displays the k strongest. As with the previous functions, results are listed by correlation if change is set to False and by the correlation in annual percent changes if change is True. \n",
    "\n",
    "__wb_every(data,col,k=5,change=False,nlim=1,cor_lim=0,t_lim=0)__\n",
    "\n",
    "Required arguments:\n",
    "- data: a dataframe containing columns \"Country,\" \"Year,\" and information on the variable of itnerest\n",
    "- col: The integer index where data of the variable exists in data\n",
    "\n",
    "Optional arguments:\n",
    "- k: The number of variables to return\n",
    "- change: True to find and order variables by the correlation between the variable of interest and World Bank variables\n",
    "- nlim: The minimum number observations to be used to find the correlation\n",
    "- cor_lim: The minimum absolute value of the correlation of variables to be displayed. \n",
    "- t_lim: the minimum absolute value of the t-value associated with the correlation of variables to be displayed."
   ]
  }
 ],
 "metadata": {
  "kernelspec": {
   "display_name": "Python 3 (ipykernel)",
   "language": "python",
   "name": "python3"
  },
  "language_info": {
   "codemirror_mode": {
    "name": "ipython",
    "version": 3
   },
   "file_extension": ".py",
   "mimetype": "text/x-python",
   "name": "python",
   "nbconvert_exporter": "python",
   "pygments_lexer": "ipython3",
   "version": "3.9.7"
  }
 },
 "nbformat": 4,
 "nbformat_minor": 5
}
